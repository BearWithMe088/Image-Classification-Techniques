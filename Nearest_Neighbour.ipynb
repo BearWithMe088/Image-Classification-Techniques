{
 "cells": [
  {
   "cell_type": "code",
   "execution_count": 1,
   "metadata": {},
   "outputs": [],
   "source": [
    "import numpy as np\n",
    "import pandas as pd"
   ]
  },
  {
   "cell_type": "code",
   "execution_count": 3,
   "metadata": {},
   "outputs": [],
   "source": [
    "class Nearest_neighbour(object):\n",
    "    def __init__(self): #The training data is being sent as a single row rather than a 2D matrix.\n",
    "        pass\n",
    "    def train(self, train_data, train_labels):\n",
    "        self.data = train_data\n",
    "        self.label = train_labels\n",
    "    def predict(self, test_data):\n",
    "        num_test = test_data.shape[0]\n",
    "        pred_labels = np.zeros(num_test, dtype = self.labels.dtype)\n",
    "        for i in xrange(num_test):\n",
    "            difference = np.sum(np.abs(self.train_data - test_data[i,:]), axis = 1)\n",
    "            minimum_distance_index = np.argmin(difference)\n",
    "            pred_labels[i] = self.train_labels[minimum_distance_index]\n",
    "        return pred_labels"
   ]
  },
  {
   "cell_type": "code",
   "execution_count": 4,
   "metadata": {},
   "outputs": [],
   "source": [
    "#Stretch out images as rows. \n",
    "#For each image of test dataset, absolute difference of pixels is calculated with each image in train data\n",
    "#and all the values are added up. The difference that seluts in the smallest value will the predicted label."
   ]
  },
  {
   "cell_type": "code",
   "execution_count": null,
   "metadata": {},
   "outputs": [],
   "source": []
  }
 ],
 "metadata": {
  "kernelspec": {
   "display_name": "Python 3",
   "language": "python",
   "name": "python3"
  },
  "language_info": {
   "codemirror_mode": {
    "name": "ipython",
    "version": 3
   },
   "file_extension": ".py",
   "mimetype": "text/x-python",
   "name": "python",
   "nbconvert_exporter": "python",
   "pygments_lexer": "ipython3",
   "version": "3.7.3"
  }
 },
 "nbformat": 4,
 "nbformat_minor": 2
}
